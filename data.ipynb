{
 "cells": [
  {
   "cell_type": "code",
   "execution_count": 11,
   "id": "initial_id",
   "metadata": {
    "collapsed": true,
    "ExecuteTime": {
     "end_time": "2024-02-28T00:21:23.316554Z",
     "start_time": "2024-02-28T00:21:23.312662Z"
    }
   },
   "outputs": [],
   "source": [
    "\n",
    "%reset -f\n"
   ]
  },
  {
   "cell_type": "code",
   "outputs": [],
   "source": [
    "\n",
    "import numpy as np\n",
    "import pandas as pd\n"
   ],
   "metadata": {
    "collapsed": false,
    "ExecuteTime": {
     "end_time": "2024-02-28T00:21:23.794699Z",
     "start_time": "2024-02-28T00:21:23.790845Z"
    }
   },
   "id": "47a23056889367f6",
   "execution_count": 12
  },
  {
   "cell_type": "code",
   "outputs": [],
   "source": [
    "\n",
    "df = pd.read_excel('Data/stock_prices.xlsx')\n",
    "df = df.rename(columns={'Date': 'DATE'})\n"
   ],
   "metadata": {
    "collapsed": false,
    "ExecuteTime": {
     "end_time": "2024-02-28T00:21:24.507576Z",
     "start_time": "2024-02-28T00:21:24.310025Z"
    }
   },
   "id": "2edf32417aab55d9",
   "execution_count": 13
  },
  {
   "cell_type": "code",
   "outputs": [],
   "source": [
    "\n",
    "df['AMC_PCT'] = df['AMC'].pct_change()\n",
    "df['PEP_PCT'] = df['PEP'].pct_change()\n",
    "df['COKE_PCT'] = df['COKE'].pct_change()\n",
    "df['GE_PCT'] = df['GE'].pct_change()\n",
    "df['TBT_PCT'] = df['TBT'].pct_change()\n",
    "df['GME_PCT'] = df['GME'].pct_change()\n",
    "df['TSLA_PCT'] = df['TSLA'].pct_change()\n"
   ],
   "metadata": {
    "collapsed": false,
    "ExecuteTime": {
     "end_time": "2024-02-28T00:21:25.702917Z",
     "start_time": "2024-02-28T00:21:25.698271Z"
    }
   },
   "id": "6207dcd8ffaf7a40",
   "execution_count": 14
  },
  {
   "cell_type": "code",
   "outputs": [
    {
     "data": {
      "text/plain": "          DATE        AMC         PEP        COKE          GE        TBT  \\\n0   2020-08-17   5.600000  133.911301  271.856567   51.549820  15.780000   \n1   2020-08-18   5.350000  134.095779  271.776855   51.310799  15.550000   \n2   2020-08-19   5.390000  132.484009  271.856567   50.832741  15.760000   \n3   2020-08-20   5.690000  132.746170  269.634125   49.956318  15.450000   \n4   2020-08-21   5.190000  132.493729  266.484863   50.275017  15.280000   \n..         ...        ...         ...         ...         ...        ...   \n248 2021-08-11  31.549999  155.039993  400.209991  106.040001  18.000000   \n249 2021-08-12  33.070000  155.070007  412.980011  106.519997  18.049999   \n250 2021-08-13  33.470001  156.520004  410.010010  104.919998  17.510000   \n251 2021-08-16  35.689999  158.050003  406.399994  103.349998  17.420000   \n252 2021-08-17  37.160000  157.899994  407.529999  101.620003  17.320000   \n\n            GME        TSLA   AMC_PCT   PEP_PCT  COKE_PCT    GE_PCT   TBT_PCT  \\\n0      4.630000  367.127991       NaN       NaN       NaN       NaN       NaN   \n1      4.810000  377.417999 -0.044643  0.001378 -0.000293 -0.004637 -0.014575   \n2      4.720000  375.705994  0.007477 -0.012020  0.000293 -0.009317  0.013505   \n3      4.610000  400.365997  0.055659  0.001979 -0.008175 -0.017241 -0.019670   \n4      5.030000  409.996002 -0.087873 -0.001902 -0.011680  0.006380 -0.011003   \n..          ...         ...       ...       ...       ...       ...       ...   \n248  158.779999  707.820007 -0.006299  0.003950  0.015478 -0.000377  0.000000   \n249  162.350006  722.250000  0.048178  0.000194  0.031908  0.004527  0.002778   \n250  162.520004  717.169983  0.012096  0.009351 -0.007192 -0.015021 -0.029917   \n251  163.929993  686.169983  0.066328  0.009775 -0.008805 -0.014964 -0.005140   \n252  163.740005  665.710022  0.041188 -0.000949  0.002781 -0.016739 -0.005741   \n\n      GME_PCT  TSLA_PCT  \n0         NaN       NaN  \n1    0.038877  0.028028  \n2   -0.018711 -0.004536  \n3   -0.023305  0.065636  \n4    0.091106  0.024053  \n..        ...       ...  \n248 -0.001698 -0.003056  \n249  0.022484  0.020387  \n250  0.001047 -0.007034  \n251  0.008676 -0.043225  \n252 -0.001159 -0.029818  \n\n[253 rows x 15 columns]",
      "text/html": "<div>\n<style scoped>\n    .dataframe tbody tr th:only-of-type {\n        vertical-align: middle;\n    }\n\n    .dataframe tbody tr th {\n        vertical-align: top;\n    }\n\n    .dataframe thead th {\n        text-align: right;\n    }\n</style>\n<table border=\"1\" class=\"dataframe\">\n  <thead>\n    <tr style=\"text-align: right;\">\n      <th></th>\n      <th>DATE</th>\n      <th>AMC</th>\n      <th>PEP</th>\n      <th>COKE</th>\n      <th>GE</th>\n      <th>TBT</th>\n      <th>GME</th>\n      <th>TSLA</th>\n      <th>AMC_PCT</th>\n      <th>PEP_PCT</th>\n      <th>COKE_PCT</th>\n      <th>GE_PCT</th>\n      <th>TBT_PCT</th>\n      <th>GME_PCT</th>\n      <th>TSLA_PCT</th>\n    </tr>\n  </thead>\n  <tbody>\n    <tr>\n      <th>0</th>\n      <td>2020-08-17</td>\n      <td>5.600000</td>\n      <td>133.911301</td>\n      <td>271.856567</td>\n      <td>51.549820</td>\n      <td>15.780000</td>\n      <td>4.630000</td>\n      <td>367.127991</td>\n      <td>NaN</td>\n      <td>NaN</td>\n      <td>NaN</td>\n      <td>NaN</td>\n      <td>NaN</td>\n      <td>NaN</td>\n      <td>NaN</td>\n    </tr>\n    <tr>\n      <th>1</th>\n      <td>2020-08-18</td>\n      <td>5.350000</td>\n      <td>134.095779</td>\n      <td>271.776855</td>\n      <td>51.310799</td>\n      <td>15.550000</td>\n      <td>4.810000</td>\n      <td>377.417999</td>\n      <td>-0.044643</td>\n      <td>0.001378</td>\n      <td>-0.000293</td>\n      <td>-0.004637</td>\n      <td>-0.014575</td>\n      <td>0.038877</td>\n      <td>0.028028</td>\n    </tr>\n    <tr>\n      <th>2</th>\n      <td>2020-08-19</td>\n      <td>5.390000</td>\n      <td>132.484009</td>\n      <td>271.856567</td>\n      <td>50.832741</td>\n      <td>15.760000</td>\n      <td>4.720000</td>\n      <td>375.705994</td>\n      <td>0.007477</td>\n      <td>-0.012020</td>\n      <td>0.000293</td>\n      <td>-0.009317</td>\n      <td>0.013505</td>\n      <td>-0.018711</td>\n      <td>-0.004536</td>\n    </tr>\n    <tr>\n      <th>3</th>\n      <td>2020-08-20</td>\n      <td>5.690000</td>\n      <td>132.746170</td>\n      <td>269.634125</td>\n      <td>49.956318</td>\n      <td>15.450000</td>\n      <td>4.610000</td>\n      <td>400.365997</td>\n      <td>0.055659</td>\n      <td>0.001979</td>\n      <td>-0.008175</td>\n      <td>-0.017241</td>\n      <td>-0.019670</td>\n      <td>-0.023305</td>\n      <td>0.065636</td>\n    </tr>\n    <tr>\n      <th>4</th>\n      <td>2020-08-21</td>\n      <td>5.190000</td>\n      <td>132.493729</td>\n      <td>266.484863</td>\n      <td>50.275017</td>\n      <td>15.280000</td>\n      <td>5.030000</td>\n      <td>409.996002</td>\n      <td>-0.087873</td>\n      <td>-0.001902</td>\n      <td>-0.011680</td>\n      <td>0.006380</td>\n      <td>-0.011003</td>\n      <td>0.091106</td>\n      <td>0.024053</td>\n    </tr>\n    <tr>\n      <th>...</th>\n      <td>...</td>\n      <td>...</td>\n      <td>...</td>\n      <td>...</td>\n      <td>...</td>\n      <td>...</td>\n      <td>...</td>\n      <td>...</td>\n      <td>...</td>\n      <td>...</td>\n      <td>...</td>\n      <td>...</td>\n      <td>...</td>\n      <td>...</td>\n      <td>...</td>\n    </tr>\n    <tr>\n      <th>248</th>\n      <td>2021-08-11</td>\n      <td>31.549999</td>\n      <td>155.039993</td>\n      <td>400.209991</td>\n      <td>106.040001</td>\n      <td>18.000000</td>\n      <td>158.779999</td>\n      <td>707.820007</td>\n      <td>-0.006299</td>\n      <td>0.003950</td>\n      <td>0.015478</td>\n      <td>-0.000377</td>\n      <td>0.000000</td>\n      <td>-0.001698</td>\n      <td>-0.003056</td>\n    </tr>\n    <tr>\n      <th>249</th>\n      <td>2021-08-12</td>\n      <td>33.070000</td>\n      <td>155.070007</td>\n      <td>412.980011</td>\n      <td>106.519997</td>\n      <td>18.049999</td>\n      <td>162.350006</td>\n      <td>722.250000</td>\n      <td>0.048178</td>\n      <td>0.000194</td>\n      <td>0.031908</td>\n      <td>0.004527</td>\n      <td>0.002778</td>\n      <td>0.022484</td>\n      <td>0.020387</td>\n    </tr>\n    <tr>\n      <th>250</th>\n      <td>2021-08-13</td>\n      <td>33.470001</td>\n      <td>156.520004</td>\n      <td>410.010010</td>\n      <td>104.919998</td>\n      <td>17.510000</td>\n      <td>162.520004</td>\n      <td>717.169983</td>\n      <td>0.012096</td>\n      <td>0.009351</td>\n      <td>-0.007192</td>\n      <td>-0.015021</td>\n      <td>-0.029917</td>\n      <td>0.001047</td>\n      <td>-0.007034</td>\n    </tr>\n    <tr>\n      <th>251</th>\n      <td>2021-08-16</td>\n      <td>35.689999</td>\n      <td>158.050003</td>\n      <td>406.399994</td>\n      <td>103.349998</td>\n      <td>17.420000</td>\n      <td>163.929993</td>\n      <td>686.169983</td>\n      <td>0.066328</td>\n      <td>0.009775</td>\n      <td>-0.008805</td>\n      <td>-0.014964</td>\n      <td>-0.005140</td>\n      <td>0.008676</td>\n      <td>-0.043225</td>\n    </tr>\n    <tr>\n      <th>252</th>\n      <td>2021-08-17</td>\n      <td>37.160000</td>\n      <td>157.899994</td>\n      <td>407.529999</td>\n      <td>101.620003</td>\n      <td>17.320000</td>\n      <td>163.740005</td>\n      <td>665.710022</td>\n      <td>0.041188</td>\n      <td>-0.000949</td>\n      <td>0.002781</td>\n      <td>-0.016739</td>\n      <td>-0.005741</td>\n      <td>-0.001159</td>\n      <td>-0.029818</td>\n    </tr>\n  </tbody>\n</table>\n<p>253 rows × 15 columns</p>\n</div>"
     },
     "execution_count": 15,
     "metadata": {},
     "output_type": "execute_result"
    }
   ],
   "source": [
    "\n",
    "df\n"
   ],
   "metadata": {
    "collapsed": false,
    "ExecuteTime": {
     "end_time": "2024-02-28T00:21:26.943740Z",
     "start_time": "2024-02-28T00:21:26.940137Z"
    }
   },
   "id": "898484ca93f5c71a",
   "execution_count": 15
  },
  {
   "cell_type": "code",
   "outputs": [],
   "source": [
    "\n",
    "returns_df = df[['DATE', 'AMC_PCT', 'PEP_PCT', 'COKE_PCT', 'GE_PCT', 'TBT_PCT', 'GME_PCT', 'TSLA_PCT']].dropna()\n"
   ],
   "metadata": {
    "collapsed": false,
    "ExecuteTime": {
     "end_time": "2024-02-28T00:21:28.174661Z",
     "start_time": "2024-02-28T00:21:28.167194Z"
    }
   },
   "id": "aa12a8edf023c30c",
   "execution_count": 16
  },
  {
   "cell_type": "code",
   "outputs": [],
   "source": [
    "\n",
    "returns_df.to_pickle('Data/returns.pkl')\n"
   ],
   "metadata": {
    "collapsed": false,
    "ExecuteTime": {
     "end_time": "2024-02-28T00:21:31.585710Z",
     "start_time": "2024-02-28T00:21:31.577279Z"
    }
   },
   "id": "8bbf43ccec7bf003",
   "execution_count": 17
  },
  {
   "cell_type": "code",
   "outputs": [],
   "source": [
    "\n",
    "df = pd.read_pickle('Data/returns.pkl')\n"
   ],
   "metadata": {
    "collapsed": false,
    "ExecuteTime": {
     "end_time": "2024-02-28T00:21:33.270765Z",
     "start_time": "2024-02-28T00:21:33.268030Z"
    }
   },
   "id": "2e31172353b78ac7",
   "execution_count": 18
  },
  {
   "cell_type": "code",
   "outputs": [
    {
     "data": {
      "text/plain": "          DATE   AMC_PCT   PEP_PCT  COKE_PCT    GE_PCT   TBT_PCT   GME_PCT  \\\n1   2020-08-18 -0.044643  0.001378 -0.000293 -0.004637 -0.014575  0.038877   \n2   2020-08-19  0.007477 -0.012020  0.000293 -0.009317  0.013505 -0.018711   \n3   2020-08-20  0.055659  0.001979 -0.008175 -0.017241 -0.019670 -0.023305   \n4   2020-08-21 -0.087873 -0.001902 -0.011680  0.006380 -0.011003  0.091106   \n5   2020-08-24  0.042389  0.008647  0.037660  0.050713  0.004581 -0.031809   \n..         ...       ...       ...       ...       ...       ...       ...   \n248 2021-08-11 -0.006299  0.003950  0.015478 -0.000377  0.000000 -0.001698   \n249 2021-08-12  0.048178  0.000194  0.031908  0.004527  0.002778  0.022484   \n250 2021-08-13  0.012096  0.009351 -0.007192 -0.015021 -0.029917  0.001047   \n251 2021-08-16  0.066328  0.009775 -0.008805 -0.014964 -0.005140  0.008676   \n252 2021-08-17  0.041188 -0.000949  0.002781 -0.016739 -0.005741 -0.001159   \n\n     TSLA_PCT  \n1    0.028028  \n2   -0.004536  \n3    0.065636  \n4    0.024053  \n5   -0.017454  \n..        ...  \n248 -0.003056  \n249  0.020387  \n250 -0.007034  \n251 -0.043225  \n252 -0.029818  \n\n[252 rows x 8 columns]",
      "text/html": "<div>\n<style scoped>\n    .dataframe tbody tr th:only-of-type {\n        vertical-align: middle;\n    }\n\n    .dataframe tbody tr th {\n        vertical-align: top;\n    }\n\n    .dataframe thead th {\n        text-align: right;\n    }\n</style>\n<table border=\"1\" class=\"dataframe\">\n  <thead>\n    <tr style=\"text-align: right;\">\n      <th></th>\n      <th>DATE</th>\n      <th>AMC_PCT</th>\n      <th>PEP_PCT</th>\n      <th>COKE_PCT</th>\n      <th>GE_PCT</th>\n      <th>TBT_PCT</th>\n      <th>GME_PCT</th>\n      <th>TSLA_PCT</th>\n    </tr>\n  </thead>\n  <tbody>\n    <tr>\n      <th>1</th>\n      <td>2020-08-18</td>\n      <td>-0.044643</td>\n      <td>0.001378</td>\n      <td>-0.000293</td>\n      <td>-0.004637</td>\n      <td>-0.014575</td>\n      <td>0.038877</td>\n      <td>0.028028</td>\n    </tr>\n    <tr>\n      <th>2</th>\n      <td>2020-08-19</td>\n      <td>0.007477</td>\n      <td>-0.012020</td>\n      <td>0.000293</td>\n      <td>-0.009317</td>\n      <td>0.013505</td>\n      <td>-0.018711</td>\n      <td>-0.004536</td>\n    </tr>\n    <tr>\n      <th>3</th>\n      <td>2020-08-20</td>\n      <td>0.055659</td>\n      <td>0.001979</td>\n      <td>-0.008175</td>\n      <td>-0.017241</td>\n      <td>-0.019670</td>\n      <td>-0.023305</td>\n      <td>0.065636</td>\n    </tr>\n    <tr>\n      <th>4</th>\n      <td>2020-08-21</td>\n      <td>-0.087873</td>\n      <td>-0.001902</td>\n      <td>-0.011680</td>\n      <td>0.006380</td>\n      <td>-0.011003</td>\n      <td>0.091106</td>\n      <td>0.024053</td>\n    </tr>\n    <tr>\n      <th>5</th>\n      <td>2020-08-24</td>\n      <td>0.042389</td>\n      <td>0.008647</td>\n      <td>0.037660</td>\n      <td>0.050713</td>\n      <td>0.004581</td>\n      <td>-0.031809</td>\n      <td>-0.017454</td>\n    </tr>\n    <tr>\n      <th>...</th>\n      <td>...</td>\n      <td>...</td>\n      <td>...</td>\n      <td>...</td>\n      <td>...</td>\n      <td>...</td>\n      <td>...</td>\n      <td>...</td>\n    </tr>\n    <tr>\n      <th>248</th>\n      <td>2021-08-11</td>\n      <td>-0.006299</td>\n      <td>0.003950</td>\n      <td>0.015478</td>\n      <td>-0.000377</td>\n      <td>0.000000</td>\n      <td>-0.001698</td>\n      <td>-0.003056</td>\n    </tr>\n    <tr>\n      <th>249</th>\n      <td>2021-08-12</td>\n      <td>0.048178</td>\n      <td>0.000194</td>\n      <td>0.031908</td>\n      <td>0.004527</td>\n      <td>0.002778</td>\n      <td>0.022484</td>\n      <td>0.020387</td>\n    </tr>\n    <tr>\n      <th>250</th>\n      <td>2021-08-13</td>\n      <td>0.012096</td>\n      <td>0.009351</td>\n      <td>-0.007192</td>\n      <td>-0.015021</td>\n      <td>-0.029917</td>\n      <td>0.001047</td>\n      <td>-0.007034</td>\n    </tr>\n    <tr>\n      <th>251</th>\n      <td>2021-08-16</td>\n      <td>0.066328</td>\n      <td>0.009775</td>\n      <td>-0.008805</td>\n      <td>-0.014964</td>\n      <td>-0.005140</td>\n      <td>0.008676</td>\n      <td>-0.043225</td>\n    </tr>\n    <tr>\n      <th>252</th>\n      <td>2021-08-17</td>\n      <td>0.041188</td>\n      <td>-0.000949</td>\n      <td>0.002781</td>\n      <td>-0.016739</td>\n      <td>-0.005741</td>\n      <td>-0.001159</td>\n      <td>-0.029818</td>\n    </tr>\n  </tbody>\n</table>\n<p>252 rows × 8 columns</p>\n</div>"
     },
     "execution_count": 19,
     "metadata": {},
     "output_type": "execute_result"
    }
   ],
   "source": [
    "\n",
    "df\n"
   ],
   "metadata": {
    "collapsed": false,
    "ExecuteTime": {
     "end_time": "2024-02-28T00:21:34.265742Z",
     "start_time": "2024-02-28T00:21:34.245527Z"
    }
   },
   "id": "406c0a92b40a0ef5",
   "execution_count": 19
  },
  {
   "cell_type": "code",
   "outputs": [],
   "source": [
    "df.index = df['DATE']"
   ],
   "metadata": {
    "collapsed": false,
    "ExecuteTime": {
     "end_time": "2024-02-28T00:02:58.544122Z",
     "start_time": "2024-02-28T00:02:58.540346Z"
    }
   },
   "id": "c7ef7e8b2d805b70",
   "execution_count": 5
  },
  {
   "cell_type": "code",
   "outputs": [],
   "source": [
    "df = df.drop('DATE', axis=1)"
   ],
   "metadata": {
    "collapsed": false,
    "ExecuteTime": {
     "end_time": "2024-02-28T00:03:10.368302Z",
     "start_time": "2024-02-28T00:03:10.341962Z"
    }
   },
   "id": "d5caa6e3694d813c",
   "execution_count": 7
  },
  {
   "cell_type": "code",
   "outputs": [
    {
     "data": {
      "text/plain": "             AMC_PCT   PEP_PCT  COKE_PCT    GE_PCT   TBT_PCT   GME_PCT  \\\nDATE                                                                     \n2020-08-18 -0.044643  0.001378 -0.000293 -0.004637 -0.014575  0.038877   \n2020-08-19  0.007477 -0.012020  0.000293 -0.009317  0.013505 -0.018711   \n2020-08-20  0.055659  0.001979 -0.008175 -0.017241 -0.019670 -0.023305   \n2020-08-21 -0.087873 -0.001902 -0.011680  0.006380 -0.011003  0.091106   \n2020-08-24  0.042389  0.008647  0.037660  0.050713  0.004581 -0.031809   \n...              ...       ...       ...       ...       ...       ...   \n2021-08-11 -0.006299  0.003950  0.015478 -0.000377  0.000000 -0.001698   \n2021-08-12  0.048178  0.000194  0.031908  0.004527  0.002778  0.022484   \n2021-08-13  0.012096  0.009351 -0.007192 -0.015021 -0.029917  0.001047   \n2021-08-16  0.066328  0.009775 -0.008805 -0.014964 -0.005140  0.008676   \n2021-08-17  0.041188 -0.000949  0.002781 -0.016739 -0.005741 -0.001159   \n\n             TBT_PCT  \nDATE                  \n2020-08-18 -0.014575  \n2020-08-19  0.013505  \n2020-08-20 -0.019670  \n2020-08-21 -0.011003  \n2020-08-24  0.004581  \n...              ...  \n2021-08-11  0.000000  \n2021-08-12  0.002778  \n2021-08-13 -0.029917  \n2021-08-16 -0.005140  \n2021-08-17 -0.005741  \n\n[252 rows x 7 columns]",
      "text/html": "<div>\n<style scoped>\n    .dataframe tbody tr th:only-of-type {\n        vertical-align: middle;\n    }\n\n    .dataframe tbody tr th {\n        vertical-align: top;\n    }\n\n    .dataframe thead th {\n        text-align: right;\n    }\n</style>\n<table border=\"1\" class=\"dataframe\">\n  <thead>\n    <tr style=\"text-align: right;\">\n      <th></th>\n      <th>AMC_PCT</th>\n      <th>PEP_PCT</th>\n      <th>COKE_PCT</th>\n      <th>GE_PCT</th>\n      <th>TBT_PCT</th>\n      <th>GME_PCT</th>\n      <th>TBT_PCT</th>\n    </tr>\n    <tr>\n      <th>DATE</th>\n      <th></th>\n      <th></th>\n      <th></th>\n      <th></th>\n      <th></th>\n      <th></th>\n      <th></th>\n    </tr>\n  </thead>\n  <tbody>\n    <tr>\n      <th>2020-08-18</th>\n      <td>-0.044643</td>\n      <td>0.001378</td>\n      <td>-0.000293</td>\n      <td>-0.004637</td>\n      <td>-0.014575</td>\n      <td>0.038877</td>\n      <td>-0.014575</td>\n    </tr>\n    <tr>\n      <th>2020-08-19</th>\n      <td>0.007477</td>\n      <td>-0.012020</td>\n      <td>0.000293</td>\n      <td>-0.009317</td>\n      <td>0.013505</td>\n      <td>-0.018711</td>\n      <td>0.013505</td>\n    </tr>\n    <tr>\n      <th>2020-08-20</th>\n      <td>0.055659</td>\n      <td>0.001979</td>\n      <td>-0.008175</td>\n      <td>-0.017241</td>\n      <td>-0.019670</td>\n      <td>-0.023305</td>\n      <td>-0.019670</td>\n    </tr>\n    <tr>\n      <th>2020-08-21</th>\n      <td>-0.087873</td>\n      <td>-0.001902</td>\n      <td>-0.011680</td>\n      <td>0.006380</td>\n      <td>-0.011003</td>\n      <td>0.091106</td>\n      <td>-0.011003</td>\n    </tr>\n    <tr>\n      <th>2020-08-24</th>\n      <td>0.042389</td>\n      <td>0.008647</td>\n      <td>0.037660</td>\n      <td>0.050713</td>\n      <td>0.004581</td>\n      <td>-0.031809</td>\n      <td>0.004581</td>\n    </tr>\n    <tr>\n      <th>...</th>\n      <td>...</td>\n      <td>...</td>\n      <td>...</td>\n      <td>...</td>\n      <td>...</td>\n      <td>...</td>\n      <td>...</td>\n    </tr>\n    <tr>\n      <th>2021-08-11</th>\n      <td>-0.006299</td>\n      <td>0.003950</td>\n      <td>0.015478</td>\n      <td>-0.000377</td>\n      <td>0.000000</td>\n      <td>-0.001698</td>\n      <td>0.000000</td>\n    </tr>\n    <tr>\n      <th>2021-08-12</th>\n      <td>0.048178</td>\n      <td>0.000194</td>\n      <td>0.031908</td>\n      <td>0.004527</td>\n      <td>0.002778</td>\n      <td>0.022484</td>\n      <td>0.002778</td>\n    </tr>\n    <tr>\n      <th>2021-08-13</th>\n      <td>0.012096</td>\n      <td>0.009351</td>\n      <td>-0.007192</td>\n      <td>-0.015021</td>\n      <td>-0.029917</td>\n      <td>0.001047</td>\n      <td>-0.029917</td>\n    </tr>\n    <tr>\n      <th>2021-08-16</th>\n      <td>0.066328</td>\n      <td>0.009775</td>\n      <td>-0.008805</td>\n      <td>-0.014964</td>\n      <td>-0.005140</td>\n      <td>0.008676</td>\n      <td>-0.005140</td>\n    </tr>\n    <tr>\n      <th>2021-08-17</th>\n      <td>0.041188</td>\n      <td>-0.000949</td>\n      <td>0.002781</td>\n      <td>-0.016739</td>\n      <td>-0.005741</td>\n      <td>-0.001159</td>\n      <td>-0.005741</td>\n    </tr>\n  </tbody>\n</table>\n<p>252 rows × 7 columns</p>\n</div>"
     },
     "execution_count": 8,
     "metadata": {},
     "output_type": "execute_result"
    }
   ],
   "source": [
    "df"
   ],
   "metadata": {
    "collapsed": false,
    "ExecuteTime": {
     "end_time": "2024-02-28T00:03:11.115028Z",
     "start_time": "2024-02-28T00:03:11.107033Z"
    }
   },
   "id": "d542694ca3f93c9e",
   "execution_count": 8
  },
  {
   "cell_type": "code",
   "outputs": [],
   "source": [],
   "metadata": {
    "collapsed": false
   },
   "id": "e96e46ee6af13831"
  }
 ],
 "metadata": {
  "kernelspec": {
   "display_name": "Python 3",
   "language": "python",
   "name": "python3"
  },
  "language_info": {
   "codemirror_mode": {
    "name": "ipython",
    "version": 2
   },
   "file_extension": ".py",
   "mimetype": "text/x-python",
   "name": "python",
   "nbconvert_exporter": "python",
   "pygments_lexer": "ipython2",
   "version": "2.7.6"
  }
 },
 "nbformat": 4,
 "nbformat_minor": 5
}
